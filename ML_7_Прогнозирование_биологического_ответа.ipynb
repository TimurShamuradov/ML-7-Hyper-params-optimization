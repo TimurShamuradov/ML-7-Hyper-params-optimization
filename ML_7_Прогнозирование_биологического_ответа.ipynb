{
 "cells": [
  {
   "cell_type": "markdown",
   "metadata": {
    "id": "mmvS-Z5cUfWA"
   },
   "source": [
    "# Прогнозирование биологического ответа"
   ]
  },
  {
   "cell_type": "markdown",
   "metadata": {
    "id": "iEJZJ-AAUkT5"
   },
   "source": [
    "Необходимо обучить две модели: логистическую регрессию и случайный лес. Далее нужно сделать подбор гиперпараметров с помощью базовых и продвинутых методов оптимизации. Важно использовать все четыре метода (GridSeachCV, RandomizedSearchCV, Hyperopt, Optuna) хотя бы по разу, максимальное количество итераций не должно превышать 50.\n",
    "\n",
    "В качестве метрики будем использовать F1-score."
   ]
  },
  {
   "cell_type": "markdown",
   "metadata": {
    "id": "NtQiGKFcVW5c"
   },
   "source": [
    "Данные представлены в формате CSV.  Каждая строка представляет молекулу.\n",
    "\n",
    "  Первый столбец Activity содержит экспериментальные данные, описывающие фактический биологический ответ [0, 1];\n",
    "  Остальные столбцы D1-D1776 представляют собой молекулярные дескрипторы — это вычисляемые свойства, которые могут фиксировать некоторые характеристики молекулы, например размер, форму или состав элементов.\n",
    "\n"
   ]
  },
  {
   "cell_type": "markdown",
   "metadata": {
    "id": "QIFwyPyYU8I1",
    "tags": []
   },
   "source": [
    "## Libraries"
   ]
  },
  {
   "cell_type": "code",
   "execution_count": 1,
   "metadata": {
    "id": "_LvOcjz1TnXQ"
   },
   "outputs": [],
   "source": [
    "import pandas as pd\n",
    "import numpy as np\n",
    "\n",
    "from sklearn.model_selection import train_test_split\n",
    "from sklearn.linear_model import LogisticRegression\n",
    "from sklearn import ensemble\n",
    "from sklearn import metrics\n",
    "from sklearn import model_selection\n",
    "from sklearn.model_selection import GridSearchCV\n",
    "from sklearn.model_selection import RandomizedSearchCV\n",
    "import hyperopt\n",
    "from hyperopt import fmin, tpe, hp, Trials\n",
    "import optuna"
   ]
  },
  {
   "cell_type": "markdown",
   "metadata": {
    "id": "8bu7-Pn9U250",
    "tags": []
   },
   "source": [
    "## Load Data"
   ]
  },
  {
   "cell_type": "code",
   "execution_count": 2,
   "metadata": {
    "colab": {
     "base_uri": "https://localhost:8080/",
     "height": 210
    },
    "id": "---_T3oGTscg",
    "outputId": "656a70b9-97f6-46b5-8eab-6cca95e44bbb"
   },
   "outputs": [
    {
     "data": {
      "text/html": [
       "<div>\n",
       "<style scoped>\n",
       "    .dataframe tbody tr th:only-of-type {\n",
       "        vertical-align: middle;\n",
       "    }\n",
       "\n",
       "    .dataframe tbody tr th {\n",
       "        vertical-align: top;\n",
       "    }\n",
       "\n",
       "    .dataframe thead th {\n",
       "        text-align: right;\n",
       "    }\n",
       "</style>\n",
       "<table border=\"1\" class=\"dataframe\">\n",
       "  <thead>\n",
       "    <tr style=\"text-align: right;\">\n",
       "      <th></th>\n",
       "      <th>Activity</th>\n",
       "      <th>D1</th>\n",
       "      <th>D2</th>\n",
       "      <th>D3</th>\n",
       "      <th>D4</th>\n",
       "      <th>D5</th>\n",
       "      <th>D6</th>\n",
       "      <th>D7</th>\n",
       "      <th>D8</th>\n",
       "      <th>D9</th>\n",
       "      <th>...</th>\n",
       "      <th>D1767</th>\n",
       "      <th>D1768</th>\n",
       "      <th>D1769</th>\n",
       "      <th>D1770</th>\n",
       "      <th>D1771</th>\n",
       "      <th>D1772</th>\n",
       "      <th>D1773</th>\n",
       "      <th>D1774</th>\n",
       "      <th>D1775</th>\n",
       "      <th>D1776</th>\n",
       "    </tr>\n",
       "  </thead>\n",
       "  <tbody>\n",
       "    <tr>\n",
       "      <th>0</th>\n",
       "      <td>1</td>\n",
       "      <td>0.000000</td>\n",
       "      <td>0.497009</td>\n",
       "      <td>0.10</td>\n",
       "      <td>0.0</td>\n",
       "      <td>0.132956</td>\n",
       "      <td>0.678031</td>\n",
       "      <td>0.273166</td>\n",
       "      <td>0.585445</td>\n",
       "      <td>0.743663</td>\n",
       "      <td>...</td>\n",
       "      <td>0</td>\n",
       "      <td>0</td>\n",
       "      <td>0</td>\n",
       "      <td>0</td>\n",
       "      <td>0</td>\n",
       "      <td>0</td>\n",
       "      <td>0</td>\n",
       "      <td>0</td>\n",
       "      <td>0</td>\n",
       "      <td>0</td>\n",
       "    </tr>\n",
       "    <tr>\n",
       "      <th>1</th>\n",
       "      <td>1</td>\n",
       "      <td>0.366667</td>\n",
       "      <td>0.606291</td>\n",
       "      <td>0.05</td>\n",
       "      <td>0.0</td>\n",
       "      <td>0.111209</td>\n",
       "      <td>0.803455</td>\n",
       "      <td>0.106105</td>\n",
       "      <td>0.411754</td>\n",
       "      <td>0.836582</td>\n",
       "      <td>...</td>\n",
       "      <td>1</td>\n",
       "      <td>1</td>\n",
       "      <td>1</td>\n",
       "      <td>1</td>\n",
       "      <td>0</td>\n",
       "      <td>1</td>\n",
       "      <td>0</td>\n",
       "      <td>0</td>\n",
       "      <td>1</td>\n",
       "      <td>0</td>\n",
       "    </tr>\n",
       "    <tr>\n",
       "      <th>2</th>\n",
       "      <td>1</td>\n",
       "      <td>0.033300</td>\n",
       "      <td>0.480124</td>\n",
       "      <td>0.00</td>\n",
       "      <td>0.0</td>\n",
       "      <td>0.209791</td>\n",
       "      <td>0.610350</td>\n",
       "      <td>0.356453</td>\n",
       "      <td>0.517720</td>\n",
       "      <td>0.679051</td>\n",
       "      <td>...</td>\n",
       "      <td>0</td>\n",
       "      <td>0</td>\n",
       "      <td>0</td>\n",
       "      <td>0</td>\n",
       "      <td>0</td>\n",
       "      <td>0</td>\n",
       "      <td>0</td>\n",
       "      <td>0</td>\n",
       "      <td>0</td>\n",
       "      <td>0</td>\n",
       "    </tr>\n",
       "  </tbody>\n",
       "</table>\n",
       "<p>3 rows × 1777 columns</p>\n",
       "</div>"
      ],
      "text/plain": [
       "   Activity        D1        D2    D3   D4        D5        D6        D7   \n",
       "0         1  0.000000  0.497009  0.10  0.0  0.132956  0.678031  0.273166  \\\n",
       "1         1  0.366667  0.606291  0.05  0.0  0.111209  0.803455  0.106105   \n",
       "2         1  0.033300  0.480124  0.00  0.0  0.209791  0.610350  0.356453   \n",
       "\n",
       "         D8        D9  ...  D1767  D1768  D1769  D1770  D1771  D1772  D1773   \n",
       "0  0.585445  0.743663  ...      0      0      0      0      0      0      0  \\\n",
       "1  0.411754  0.836582  ...      1      1      1      1      0      1      0   \n",
       "2  0.517720  0.679051  ...      0      0      0      0      0      0      0   \n",
       "\n",
       "   D1774  D1775  D1776  \n",
       "0      0      0      0  \n",
       "1      0      1      0  \n",
       "2      0      0      0  \n",
       "\n",
       "[3 rows x 1777 columns]"
      ]
     },
     "execution_count": 2,
     "metadata": {},
     "output_type": "execute_result"
    }
   ],
   "source": [
    "# # connecting google drive\n",
    "# from google.colab import drive\n",
    "# drive.mount('/content/drive')\n",
    "# # path to the file\n",
    "# data = pd.read_csv('./drive/MyDrive/skillfactory_data/ML7/train_sem09.csv')\n",
    "# data.head(3)\n",
    "\n",
    "data = pd.read_csv('dataML7/train_sem09.csv')\n",
    "data.head(3)"
   ]
  },
  {
   "cell_type": "markdown",
   "metadata": {
    "id": "bztaenAAVIUf",
    "tags": []
   },
   "source": [
    "## Data preparation"
   ]
  },
  {
   "cell_type": "code",
   "execution_count": 3,
   "metadata": {
    "id": "mTLFkzemVNbL"
   },
   "outputs": [],
   "source": [
    "# split data into features and target variable\n",
    "X = data.drop('Activity', axis=1)\n",
    "y = data['Activity']"
   ]
  },
  {
   "cell_type": "code",
   "execution_count": 4,
   "metadata": {
    "colab": {
     "base_uri": "https://localhost:8080/"
    },
    "id": "enUoVR43Vwtk",
    "outputId": "5767803e-c611-458f-b971-1466f87b8ace"
   },
   "outputs": [
    {
     "data": {
      "text/plain": [
       "Activity\n",
       "1    0.542255\n",
       "0    0.457745\n",
       "Name: proportion, dtype: float64"
      ]
     },
     "execution_count": 4,
     "metadata": {},
     "output_type": "execute_result"
    }
   ],
   "source": [
    "# check if our data is balanced\n",
    "y.value_counts(normalize=True)"
   ]
  },
  {
   "cell_type": "code",
   "execution_count": 5,
   "metadata": {
    "id": "qPwF7aXzYMZA"
   },
   "outputs": [],
   "source": [
    "# create Train and Test data sets # Do not stratify until the threshold is 90/10\n",
    "X_train, X_test, y_train, y_test = train_test_split(X, y, test_size=0.2, random_state=42)"
   ]
  },
  {
   "cell_type": "markdown",
   "metadata": {
    "id": "F_fvAMZ6ZAal",
    "tags": []
   },
   "source": [
    "## Logistic Regression"
   ]
  },
  {
   "cell_type": "markdown",
   "metadata": {
    "id": "wBN5UktzZIPh",
    "tags": []
   },
   "source": [
    "### GridSearchCV"
   ]
  },
  {
   "cell_type": "code",
   "execution_count": 14,
   "metadata": {
    "colab": {
     "base_uri": "https://localhost:8080/",
     "height": 801
    },
    "id": "Zce4TCFfZig6",
    "outputId": "3ba71575-8282-4303-a705-ea52389d1acb"
   },
   "outputs": [
    {
     "name": "stdout",
     "output_type": "stream",
     "text": [
      "CPU times: user 2.54 s, sys: 1.13 s, total: 3.67 s\n",
      "Wall time: 4min 4s\n",
      "The F1 score on X_train using GridSearchCV is 0.8515337423312883\n",
      "The F1 score on X_test using GridSearchCV is 0.7945516458569808\n",
      "The best parameters are {'C': 0.1, 'penalty': 'l2', 'solver': 'lbfgs'}\n"
     ]
    }
   ],
   "source": [
    "# initializing LogisticRegression model\n",
    "model = LogisticRegression(random_state=42, max_iter=3000)\n",
    "# defining hyperparameters\n",
    "param_grid = [ {'C': [0.01, 0.1, 0.2, 0.3, 0.4, 0.5, 0.6, 0.7, 0.8, 0.9, 1],\n",
    "              'penalty': ['l1', 'l2'],\n",
    "              'solver': ['liblinear', 'saga']\n",
    "              },\n",
    "               {'C': [0.01, 0.1, 0.2, 0.3, 0.4, 0.5, 0.6, 0.7, 0.8, 0.9, 1],\n",
    "                'penalty': ['l2'],\n",
    "                'solver': ['lbfgs', 'sag', 'newton-cg'],\n",
    "                }\n",
    "]\n",
    "\n",
    "grid_search = GridSearchCV(model, param_grid, cv=5, scoring='f1', n_jobs=-1)\n",
    "%time grid_search.fit(X_train, y_train)\n",
    "\n",
    "print(f'The F1 score on X_train using GridSearchCV is {grid_search.score(X_train, y_train)}')\n",
    "print(f'The F1 score on X_test using GridSearchCV is {grid_search.score(X_test, y_test)}')\n",
    "print(f'The best parameters are {grid_search.best_params_}')"
   ]
  },
  {
   "cell_type": "markdown",
   "metadata": {
    "id": "49TtAXrXMYY8",
    "tags": []
   },
   "source": [
    "### RandomizedSearchCV"
   ]
  },
  {
   "cell_type": "code",
   "execution_count": 16,
   "metadata": {
    "id": "50ckDvdFMdFv"
   },
   "outputs": [
    {
     "name": "stdout",
     "output_type": "stream",
     "text": [
      "CPU times: user 3.12 s, sys: 1.74 s, total: 4.86 s\n",
      "Wall time: 2min 57s\n",
      "The F1 score on X_train using RandomizedSearchCV is 0.8515337423312883\n",
      "The F1 score on X_test using RandomizedSearchCV is 0.7945516458569808\n",
      "The best parameters are {'solver': 'newton-cg', 'penalty': 'l2', 'C': 0.1}\n"
     ]
    }
   ],
   "source": [
    "model = LogisticRegression(random_state=42, max_iter=3000)\n",
    "\n",
    "param_grid = [ {'C': [0.01, 0.1, 0.2, 0.3, 0.4, 0.5, 0.6, 0.7, 0.8, 0.9, 1],\n",
    "              'penalty': ['l1', 'l2'],\n",
    "              'solver': ['liblinear', 'saga']},\n",
    "              \n",
    "               {'C': [0.01, 0.1, 0.2, 0.3, 0.4, 0.5, 0.6, 0.7, 0.8, 0.9, 1],\n",
    "                'penalty': ['l2'],\n",
    "                'solver': ['lbfgs', 'sag', 'newton-cg']}\n",
    "             ]\n",
    "\n",
    "randomized_search = RandomizedSearchCV(model, param_grid, cv=5, scoring='f1', n_jobs=-1, n_iter=50)\n",
    "%time randomized_search.fit(X_train, y_train)\n",
    "\n",
    "print(f'The F1 score on X_train using RandomizedSearchCV is {randomized_search.score(X_train, y_train)}')\n",
    "print(f'The F1 score on X_test using RandomizedSearchCV is {randomized_search.score(X_test, y_test)}')\n",
    "print(f'The best parameters are {randomized_search.best_params_}')"
   ]
  },
  {
   "cell_type": "markdown",
   "metadata": {
    "id": "smf8MRuGOXVb",
    "tags": []
   },
   "source": [
    "### HyperOpt"
   ]
  },
  {
   "cell_type": "code",
   "execution_count": 107,
   "metadata": {
    "id": "ijPf8SgWOaLI"
   },
   "outputs": [],
   "source": [
    "# setup the space for parameters\n",
    "space_lr = hp.choice('a', [ \n",
    "       {'C': hp.quniform('C1', 0.1, 1, 0.1),\n",
    "        'penalty': hp.choice('penalty1', ['l1', 'l2']),\n",
    "        'solver': hp.choice('solver1', ['liblinear', 'saga'])},\n",
    "       \n",
    "       {'C': hp.quniform('C2', 0.1, 1, 0.1),\n",
    "        'penalty': hp.choice('penalty2', ['l2']),\n",
    "        'solver': hp.choice('solver2', ['lbfgs', 'sag', 'newton-cg'])}\n",
    "      ])\n"
   ]
  },
  {
   "cell_type": "code",
   "execution_count": 108,
   "metadata": {
    "id": "c1tXs69SXM9c"
   },
   "outputs": [],
   "source": [
    "random_state = 42\n",
    "\n",
    "def hyperopt_lr(params, cv=5, X=X_train, y=y_train, random_state=random_state):\n",
    "    model_params = {\n",
    "        'penalty': params['penalty'],\n",
    "        'solver': params['solver'],\n",
    "        'C': params['C']\n",
    "      }\n",
    "    model = LogisticRegression(**model_params, random_state=random_state, max_iter=3000)\n",
    "    score = model_selection.cross_val_score(model, X, y, cv=cv, scoring='f1', n_jobs=-1).mean()\n",
    "    return -score"
   ]
  },
  {
   "cell_type": "code",
   "execution_count": 109,
   "metadata": {
    "id": "9SskVL7BbDAD"
   },
   "outputs": [
    {
     "name": "stdout",
     "output_type": "stream",
     "text": [
      "100%|████████| 50/50 [04:06<00:00,  4.92s/trial, best loss: -0.7847204530866303]\n",
      "CPU times: user 1.05 s, sys: 310 ms, total: 1.35 s\n",
      "Wall time: 4min 6s\n"
     ]
    }
   ],
   "source": [
    "%%time\n",
    "trials_lr = Trials()\n",
    "best=fmin(hyperopt_lr, # our function\n",
    "          space=space_lr, # space of hyperparameters\n",
    "          algo=tpe.suggest, # optimization algorithm\n",
    "          max_evals=50, # max number of iterations\n",
    "          trials=trials_lr, # logging results\n",
    "          rstate=np.random.default_rng(random_state)# setting random state to replicate results\n",
    "         )\n"
   ]
  },
  {
   "cell_type": "code",
   "execution_count": 114,
   "metadata": {},
   "outputs": [
    {
     "name": "stdout",
     "output_type": "stream",
     "text": [
      "{'C': 0.30000000000000004, 'penalty': 'l1', 'solver': 'liblinear'}\n"
     ]
    }
   ],
   "source": [
    "# Best hyperparameters\n",
    "print(hyperopt.space_eval(space_lr, best))"
   ]
  },
  {
   "cell_type": "code",
   "execution_count": 115,
   "metadata": {
    "id": "V0FIA1m_bJYt"
   },
   "outputs": [
    {
     "name": "stdout",
     "output_type": "stream",
     "text": [
      "The F1 score on X_train using HyperOpt is 0.8352654057352045\n",
      "The F1 score on X_test using HyperOpt is 0.8\n"
     ]
    }
   ],
   "source": [
    "model = LogisticRegression(C=0.3, penalty='l1', solver='liblinear', random_state=random_state, max_iter=3000)\n",
    "\n",
    "model.fit(X_train, y_train)\n",
    "\n",
    "print(f'The F1 score on X_train using HyperOpt is {metrics.f1_score(y_train, model.predict(X_train))}')\n",
    "print(f'The F1 score on X_test using HyperOpt is {metrics.f1_score(y_test, model.predict(X_test))}')"
   ]
  },
  {
   "cell_type": "markdown",
   "metadata": {
    "id": "keUgS1JGQRas",
    "tags": []
   },
   "source": [
    "### Optuna"
   ]
  },
  {
   "cell_type": "code",
   "execution_count": 26,
   "metadata": {},
   "outputs": [],
   "source": [
    "random_state = 42\n",
    "\n",
    "def optuna_lr(trial, X=X_train, y=y_train, cv=5):\n",
    "    C = trial.suggest_float('C', 0.1, 1, step=0.1)\n",
    "    penalty = trial.suggest_categorical('penalty', ['l2'])\n",
    "    solver = trial.suggest_categorical('solver', ['lbfgs', 'sag', 'newton-cg', 'liblinear', 'saga'])\n",
    "    \n",
    "    model = LogisticRegression(C=C, penalty=penalty, solver=solver, random_state=random_state, max_iter=3000)\n",
    "    \n",
    "    model.fit(X, y)\n",
    "    \n",
    "    score = model_selection.cross_val_score(model, X, y, cv=cv, scoring='f1', n_jobs=-1).mean()\n",
    "    \n",
    "    return score"
   ]
  },
  {
   "cell_type": "code",
   "execution_count": 27,
   "metadata": {},
   "outputs": [
    {
     "name": "stderr",
     "output_type": "stream",
     "text": [
      "[I 2023-12-12 05:51:22,319] A new study created in memory with name: LogisticRegression\n",
      "[I 2023-12-12 05:51:50,206] Trial 0 finished with value: 0.7711740623707684 and parameters: {'C': 1.0, 'penalty': 'l2', 'solver': 'saga'}. Best is trial 0 with value: 0.7711740623707684.\n",
      "[I 2023-12-12 05:51:52,679] Trial 1 finished with value: 0.7772292673632061 and parameters: {'C': 0.4, 'penalty': 'l2', 'solver': 'newton-cg'}. Best is trial 1 with value: 0.7772292673632061.\n",
      "[I 2023-12-12 05:51:54,878] Trial 2 finished with value: 0.7712549531969394 and parameters: {'C': 0.6, 'penalty': 'l2', 'solver': 'lbfgs'}. Best is trial 1 with value: 0.7772292673632061.\n",
      "[I 2023-12-12 05:51:55,975] Trial 3 finished with value: 0.7802722359939726 and parameters: {'C': 0.2, 'penalty': 'l2', 'solver': 'liblinear'}. Best is trial 3 with value: 0.7802722359939726.\n",
      "[I 2023-12-12 05:51:57,674] Trial 4 finished with value: 0.7809846733373472 and parameters: {'C': 0.30000000000000004, 'penalty': 'l2', 'solver': 'lbfgs'}. Best is trial 4 with value: 0.7809846733373472.\n",
      "[I 2023-12-12 05:52:23,966] Trial 5 finished with value: 0.7712644908947904 and parameters: {'C': 0.9, 'penalty': 'l2', 'solver': 'saga'}. Best is trial 4 with value: 0.7809846733373472.\n",
      "[I 2023-12-12 05:52:25,514] Trial 6 finished with value: 0.7864364208494703 and parameters: {'C': 0.1, 'penalty': 'l2', 'solver': 'newton-cg'}. Best is trial 6 with value: 0.7864364208494703.\n",
      "[I 2023-12-12 05:52:27,782] Trial 7 finished with value: 0.7707279447663375 and parameters: {'C': 0.8, 'penalty': 'l2', 'solver': 'lbfgs'}. Best is trial 6 with value: 0.7864364208494703.\n",
      "[I 2023-12-12 05:52:50,470] Trial 8 finished with value: 0.7799927711635497 and parameters: {'C': 0.30000000000000004, 'penalty': 'l2', 'solver': 'sag'}. Best is trial 6 with value: 0.7864364208494703.\n",
      "[I 2023-12-12 05:53:18,823] Trial 9 finished with value: 0.7711740623707684 and parameters: {'C': 1.0, 'penalty': 'l2', 'solver': 'saga'}. Best is trial 6 with value: 0.7864364208494703.\n",
      "[I 2023-12-12 05:53:21,352] Trial 10 finished with value: 0.773969919465334 and parameters: {'C': 0.5, 'penalty': 'l2', 'solver': 'newton-cg'}. Best is trial 6 with value: 0.7864364208494703.\n",
      "[I 2023-12-12 05:53:22,452] Trial 11 finished with value: 0.7864364208494703 and parameters: {'C': 0.1, 'penalty': 'l2', 'solver': 'lbfgs'}. Best is trial 6 with value: 0.7864364208494703.\n",
      "[I 2023-12-12 05:53:23,964] Trial 12 finished with value: 0.7864364208494703 and parameters: {'C': 0.1, 'penalty': 'l2', 'solver': 'newton-cg'}. Best is trial 6 with value: 0.7864364208494703.\n",
      "[I 2023-12-12 05:53:24,468] Trial 13 finished with value: 0.7828362760770465 and parameters: {'C': 0.1, 'penalty': 'l2', 'solver': 'liblinear'}. Best is trial 6 with value: 0.7864364208494703.\n",
      "[I 2023-12-12 05:53:38,306] Trial 14 finished with value: 0.7856983739547733 and parameters: {'C': 0.1, 'penalty': 'l2', 'solver': 'sag'}. Best is trial 6 with value: 0.7864364208494703.\n",
      "[I 2023-12-12 05:53:40,665] Trial 15 finished with value: 0.7712549531969394 and parameters: {'C': 0.6, 'penalty': 'l2', 'solver': 'newton-cg'}. Best is trial 6 with value: 0.7864364208494703.\n",
      "[I 2023-12-12 05:53:42,417] Trial 16 finished with value: 0.7809846733373472 and parameters: {'C': 0.30000000000000004, 'penalty': 'l2', 'solver': 'lbfgs'}. Best is trial 6 with value: 0.7864364208494703.\n",
      "[I 2023-12-12 05:53:44,302] Trial 17 finished with value: 0.7804084660480226 and parameters: {'C': 0.2, 'penalty': 'l2', 'solver': 'newton-cg'}. Best is trial 6 with value: 0.7864364208494703.\n",
      "[I 2023-12-12 05:53:46,209] Trial 18 finished with value: 0.773969919465334 and parameters: {'C': 0.5, 'penalty': 'l2', 'solver': 'lbfgs'}. Best is trial 6 with value: 0.7864364208494703.\n",
      "[I 2023-12-12 05:54:10,150] Trial 19 finished with value: 0.7726699411026263 and parameters: {'C': 0.7000000000000001, 'penalty': 'l2', 'solver': 'sag'}. Best is trial 6 with value: 0.7864364208494703.\n",
      "[I 2023-12-12 05:54:10,719] Trial 20 finished with value: 0.7802722359939726 and parameters: {'C': 0.2, 'penalty': 'l2', 'solver': 'liblinear'}. Best is trial 6 with value: 0.7864364208494703.\n",
      "[I 2023-12-12 05:54:12,278] Trial 21 finished with value: 0.7864364208494703 and parameters: {'C': 0.1, 'penalty': 'l2', 'solver': 'newton-cg'}. Best is trial 6 with value: 0.7864364208494703.\n",
      "[I 2023-12-12 05:54:13,843] Trial 22 finished with value: 0.7864364208494703 and parameters: {'C': 0.1, 'penalty': 'l2', 'solver': 'newton-cg'}. Best is trial 6 with value: 0.7864364208494703.\n",
      "[I 2023-12-12 05:54:15,727] Trial 23 finished with value: 0.7804084660480226 and parameters: {'C': 0.2, 'penalty': 'l2', 'solver': 'newton-cg'}. Best is trial 6 with value: 0.7864364208494703.\n",
      "[I 2023-12-12 05:54:17,792] Trial 24 finished with value: 0.7772292673632061 and parameters: {'C': 0.4, 'penalty': 'l2', 'solver': 'newton-cg'}. Best is trial 6 with value: 0.7864364208494703.\n",
      "[I 2023-12-12 05:54:18,865] Trial 25 finished with value: 0.7864364208494703 and parameters: {'C': 0.1, 'penalty': 'l2', 'solver': 'lbfgs'}. Best is trial 6 with value: 0.7864364208494703.\n",
      "[I 2023-12-12 05:54:20,946] Trial 26 finished with value: 0.7772292673632061 and parameters: {'C': 0.4, 'penalty': 'l2', 'solver': 'newton-cg'}. Best is trial 6 with value: 0.7864364208494703.\n",
      "[I 2023-12-12 05:54:22,913] Trial 27 finished with value: 0.7809846733373472 and parameters: {'C': 0.30000000000000004, 'penalty': 'l2', 'solver': 'newton-cg'}. Best is trial 6 with value: 0.7864364208494703.\n",
      "[I 2023-12-12 05:54:24,359] Trial 28 finished with value: 0.7804084660480226 and parameters: {'C': 0.2, 'penalty': 'l2', 'solver': 'lbfgs'}. Best is trial 6 with value: 0.7864364208494703.\n",
      "[I 2023-12-12 05:54:41,109] Trial 29 finished with value: 0.7835953623658121 and parameters: {'C': 0.1, 'penalty': 'l2', 'solver': 'saga'}. Best is trial 6 with value: 0.7864364208494703.\n",
      "[I 2023-12-12 05:55:00,440] Trial 30 finished with value: 0.7804084660480226 and parameters: {'C': 0.2, 'penalty': 'l2', 'solver': 'sag'}. Best is trial 6 with value: 0.7864364208494703.\n",
      "[I 2023-12-12 05:55:01,963] Trial 31 finished with value: 0.7864364208494703 and parameters: {'C': 0.1, 'penalty': 'l2', 'solver': 'newton-cg'}. Best is trial 6 with value: 0.7864364208494703.\n",
      "[I 2023-12-12 05:55:03,475] Trial 32 finished with value: 0.7864364208494703 and parameters: {'C': 0.1, 'penalty': 'l2', 'solver': 'newton-cg'}. Best is trial 6 with value: 0.7864364208494703.\n",
      "[I 2023-12-12 05:55:05,405] Trial 33 finished with value: 0.7809846733373472 and parameters: {'C': 0.30000000000000004, 'penalty': 'l2', 'solver': 'newton-cg'}. Best is trial 6 with value: 0.7864364208494703.\n",
      "[I 2023-12-12 05:55:07,252] Trial 34 finished with value: 0.7804084660480226 and parameters: {'C': 0.2, 'penalty': 'l2', 'solver': 'newton-cg'}. Best is trial 6 with value: 0.7864364208494703.\n",
      "[I 2023-12-12 05:55:08,776] Trial 35 finished with value: 0.7864364208494703 and parameters: {'C': 0.1, 'penalty': 'l2', 'solver': 'newton-cg'}. Best is trial 6 with value: 0.7864364208494703.\n",
      "[I 2023-12-12 05:55:09,339] Trial 36 finished with value: 0.7802722359939726 and parameters: {'C': 0.2, 'penalty': 'l2', 'solver': 'liblinear'}. Best is trial 6 with value: 0.7864364208494703.\n",
      "[I 2023-12-12 05:55:11,011] Trial 37 finished with value: 0.7809846733373472 and parameters: {'C': 0.30000000000000004, 'penalty': 'l2', 'solver': 'lbfgs'}. Best is trial 6 with value: 0.7864364208494703.\n",
      "[I 2023-12-12 05:55:27,709] Trial 38 finished with value: 0.7835953623658121 and parameters: {'C': 0.1, 'penalty': 'l2', 'solver': 'saga'}. Best is trial 6 with value: 0.7864364208494703.\n",
      "[I 2023-12-12 05:55:29,719] Trial 39 finished with value: 0.7772292673632061 and parameters: {'C': 0.4, 'penalty': 'l2', 'solver': 'newton-cg'}. Best is trial 6 with value: 0.7864364208494703.\n",
      "[I 2023-12-12 05:55:32,002] Trial 40 finished with value: 0.7707279447663375 and parameters: {'C': 0.8, 'penalty': 'l2', 'solver': 'lbfgs'}. Best is trial 6 with value: 0.7864364208494703.\n",
      "[I 2023-12-12 05:55:33,521] Trial 41 finished with value: 0.7864364208494703 and parameters: {'C': 0.1, 'penalty': 'l2', 'solver': 'newton-cg'}. Best is trial 6 with value: 0.7864364208494703.\n",
      "[I 2023-12-12 05:55:35,038] Trial 42 finished with value: 0.7864364208494703 and parameters: {'C': 0.1, 'penalty': 'l2', 'solver': 'newton-cg'}. Best is trial 6 with value: 0.7864364208494703.\n",
      "[I 2023-12-12 05:55:36,930] Trial 43 finished with value: 0.7804084660480226 and parameters: {'C': 0.2, 'penalty': 'l2', 'solver': 'newton-cg'}. Best is trial 6 with value: 0.7864364208494703.\n",
      "[I 2023-12-12 05:55:38,455] Trial 44 finished with value: 0.7864364208494703 and parameters: {'C': 0.1, 'penalty': 'l2', 'solver': 'newton-cg'}. Best is trial 6 with value: 0.7864364208494703.\n",
      "[I 2023-12-12 05:55:39,022] Trial 45 finished with value: 0.7802722359939726 and parameters: {'C': 0.2, 'penalty': 'l2', 'solver': 'liblinear'}. Best is trial 6 with value: 0.7864364208494703.\n",
      "[I 2023-12-12 05:55:54,264] Trial 46 finished with value: 0.7803629846980049 and parameters: {'C': 0.30000000000000004, 'penalty': 'l2', 'solver': 'saga'}. Best is trial 6 with value: 0.7864364208494703.\n",
      "[I 2023-12-12 05:55:57,099] Trial 47 finished with value: 0.7720768301684569 and parameters: {'C': 1.0, 'penalty': 'l2', 'solver': 'newton-cg'}. Best is trial 6 with value: 0.7864364208494703.\n",
      "[I 2023-12-12 05:56:10,880] Trial 48 finished with value: 0.7856983739547733 and parameters: {'C': 0.1, 'penalty': 'l2', 'solver': 'sag'}. Best is trial 6 with value: 0.7864364208494703.\n",
      "[I 2023-12-12 05:56:12,251] Trial 49 finished with value: 0.7804084660480226 and parameters: {'C': 0.2, 'penalty': 'l2', 'solver': 'lbfgs'}. Best is trial 6 with value: 0.7864364208494703.\n"
     ]
    },
    {
     "name": "stdout",
     "output_type": "stream",
     "text": [
      "CPU times: user 3min 38s, sys: 1min 44s, total: 5min 22s\n",
      "Wall time: 4min 49s\n"
     ]
    }
   ],
   "source": [
    "%%time\n",
    "\n",
    "study = optuna.create_study(study_name='LogisticRegression', direction='maximize')\n",
    "\n",
    "study.optimize(optuna_lr, n_trials=50)"
   ]
  },
  {
   "cell_type": "code",
   "execution_count": 28,
   "metadata": {},
   "outputs": [
    {
     "name": "stdout",
     "output_type": "stream",
     "text": [
      "Best hyper parameters settings:  {'C': 0.1, 'penalty': 'l2', 'solver': 'newton-cg'}\n"
     ]
    }
   ],
   "source": [
    "print('Best hyper parameters settings: ', study.best_params)"
   ]
  },
  {
   "cell_type": "code",
   "execution_count": 29,
   "metadata": {},
   "outputs": [
    {
     "name": "stdout",
     "output_type": "stream",
     "text": [
      "The F1 score for Train data set:  0.8515337423312883\n",
      "The F1 score for Test data set:  0.7945516458569808\n"
     ]
    }
   ],
   "source": [
    "# initialize model with best hyper params\n",
    "model = LogisticRegression(C=0.1, penalty='l2', solver='newton-cg', random_state=random_state, n_jobs=-1)\n",
    "\n",
    "# fit model\n",
    "model.fit(X_train, y_train)\n",
    "\n",
    "# make predictions for target variable\n",
    "y_train_predict = model.predict(X_train)\n",
    "y_test_predict = model.predict(X_test)\n",
    "\n",
    "# print F1 score for Train and Test\n",
    "print('The F1 score for Train data set: ', metrics.f1_score(y_train, y_train_predict))\n",
    "print('The F1 score for Test data set: ', metrics.f1_score(y_test, y_test_predict))"
   ]
  },
  {
   "cell_type": "markdown",
   "metadata": {
    "tags": []
   },
   "source": [
    "## Random Forest"
   ]
  },
  {
   "cell_type": "markdown",
   "metadata": {
    "tags": []
   },
   "source": [
    "### GridSearchCV"
   ]
  },
  {
   "cell_type": "code",
   "execution_count": 162,
   "metadata": {},
   "outputs": [],
   "source": [
    "random_state = 42\n",
    "\n",
    "model = ensemble.RandomForestClassifier(random_state=random_state)\n",
    "\n",
    "params_grid_rf = {'n_estimators': np.linspace(10, 1000, 4, dtype=int),\n",
    "               'max_depth': np.linspace(5, 100, 3, dtype=int),\n",
    "               'criterion': [\"gini\", \"entropy\"],\n",
    "               'min_samples_leaf': np.linspace(1, 20, 3, dtype=int)} "
   ]
  },
  {
   "cell_type": "code",
   "execution_count": 163,
   "metadata": {},
   "outputs": [
    {
     "name": "stdout",
     "output_type": "stream",
     "text": [
      "CPU times: user 6.98 s, sys: 211 ms, total: 7.19 s\n",
      "Wall time: 2min 1s\n"
     ]
    },
    {
     "data": {
      "text/html": [
       "<style>#sk-container-id-3 {color: black;}#sk-container-id-3 pre{padding: 0;}#sk-container-id-3 div.sk-toggleable {background-color: white;}#sk-container-id-3 label.sk-toggleable__label {cursor: pointer;display: block;width: 100%;margin-bottom: 0;padding: 0.3em;box-sizing: border-box;text-align: center;}#sk-container-id-3 label.sk-toggleable__label-arrow:before {content: \"▸\";float: left;margin-right: 0.25em;color: #696969;}#sk-container-id-3 label.sk-toggleable__label-arrow:hover:before {color: black;}#sk-container-id-3 div.sk-estimator:hover label.sk-toggleable__label-arrow:before {color: black;}#sk-container-id-3 div.sk-toggleable__content {max-height: 0;max-width: 0;overflow: hidden;text-align: left;background-color: #f0f8ff;}#sk-container-id-3 div.sk-toggleable__content pre {margin: 0.2em;color: black;border-radius: 0.25em;background-color: #f0f8ff;}#sk-container-id-3 input.sk-toggleable__control:checked~div.sk-toggleable__content {max-height: 200px;max-width: 100%;overflow: auto;}#sk-container-id-3 input.sk-toggleable__control:checked~label.sk-toggleable__label-arrow:before {content: \"▾\";}#sk-container-id-3 div.sk-estimator input.sk-toggleable__control:checked~label.sk-toggleable__label {background-color: #d4ebff;}#sk-container-id-3 div.sk-label input.sk-toggleable__control:checked~label.sk-toggleable__label {background-color: #d4ebff;}#sk-container-id-3 input.sk-hidden--visually {border: 0;clip: rect(1px 1px 1px 1px);clip: rect(1px, 1px, 1px, 1px);height: 1px;margin: -1px;overflow: hidden;padding: 0;position: absolute;width: 1px;}#sk-container-id-3 div.sk-estimator {font-family: monospace;background-color: #f0f8ff;border: 1px dotted black;border-radius: 0.25em;box-sizing: border-box;margin-bottom: 0.5em;}#sk-container-id-3 div.sk-estimator:hover {background-color: #d4ebff;}#sk-container-id-3 div.sk-parallel-item::after {content: \"\";width: 100%;border-bottom: 1px solid gray;flex-grow: 1;}#sk-container-id-3 div.sk-label:hover label.sk-toggleable__label {background-color: #d4ebff;}#sk-container-id-3 div.sk-serial::before {content: \"\";position: absolute;border-left: 1px solid gray;box-sizing: border-box;top: 0;bottom: 0;left: 50%;z-index: 0;}#sk-container-id-3 div.sk-serial {display: flex;flex-direction: column;align-items: center;background-color: white;padding-right: 0.2em;padding-left: 0.2em;position: relative;}#sk-container-id-3 div.sk-item {position: relative;z-index: 1;}#sk-container-id-3 div.sk-parallel {display: flex;align-items: stretch;justify-content: center;background-color: white;position: relative;}#sk-container-id-3 div.sk-item::before, #sk-container-id-3 div.sk-parallel-item::before {content: \"\";position: absolute;border-left: 1px solid gray;box-sizing: border-box;top: 0;bottom: 0;left: 50%;z-index: -1;}#sk-container-id-3 div.sk-parallel-item {display: flex;flex-direction: column;z-index: 1;position: relative;background-color: white;}#sk-container-id-3 div.sk-parallel-item:first-child::after {align-self: flex-end;width: 50%;}#sk-container-id-3 div.sk-parallel-item:last-child::after {align-self: flex-start;width: 50%;}#sk-container-id-3 div.sk-parallel-item:only-child::after {width: 0;}#sk-container-id-3 div.sk-dashed-wrapped {border: 1px dashed gray;margin: 0 0.4em 0.5em 0.4em;box-sizing: border-box;padding-bottom: 0.4em;background-color: white;}#sk-container-id-3 div.sk-label label {font-family: monospace;font-weight: bold;display: inline-block;line-height: 1.2em;}#sk-container-id-3 div.sk-label-container {text-align: center;}#sk-container-id-3 div.sk-container {/* jupyter's `normalize.less` sets `[hidden] { display: none; }` but bootstrap.min.css set `[hidden] { display: none !important; }` so we also need the `!important` here to be able to override the default hidden behavior on the sphinx rendered scikit-learn.org. See: https://github.com/scikit-learn/scikit-learn/issues/21755 */display: inline-block !important;position: relative;}#sk-container-id-3 div.sk-text-repr-fallback {display: none;}</style><div id=\"sk-container-id-3\" class=\"sk-top-container\"><div class=\"sk-text-repr-fallback\"><pre>GridSearchCV(cv=5, estimator=RandomForestClassifier(random_state=42), n_jobs=-1,\n",
       "             param_grid={&#x27;criterion&#x27;: [&#x27;gini&#x27;, &#x27;entropy&#x27;],\n",
       "                         &#x27;max_depth&#x27;: array([  5,  52, 100]),\n",
       "                         &#x27;min_samples_leaf&#x27;: array([ 1, 10, 20]),\n",
       "                         &#x27;n_estimators&#x27;: array([  10,  340,  670, 1000])},\n",
       "             scoring=&#x27;f1&#x27;)</pre><b>In a Jupyter environment, please rerun this cell to show the HTML representation or trust the notebook. <br />On GitHub, the HTML representation is unable to render, please try loading this page with nbviewer.org.</b></div><div class=\"sk-container\" hidden><div class=\"sk-item sk-dashed-wrapped\"><div class=\"sk-label-container\"><div class=\"sk-label sk-toggleable\"><input class=\"sk-toggleable__control sk-hidden--visually\" id=\"sk-estimator-id-7\" type=\"checkbox\" ><label for=\"sk-estimator-id-7\" class=\"sk-toggleable__label sk-toggleable__label-arrow\">GridSearchCV</label><div class=\"sk-toggleable__content\"><pre>GridSearchCV(cv=5, estimator=RandomForestClassifier(random_state=42), n_jobs=-1,\n",
       "             param_grid={&#x27;criterion&#x27;: [&#x27;gini&#x27;, &#x27;entropy&#x27;],\n",
       "                         &#x27;max_depth&#x27;: array([  5,  52, 100]),\n",
       "                         &#x27;min_samples_leaf&#x27;: array([ 1, 10, 20]),\n",
       "                         &#x27;n_estimators&#x27;: array([  10,  340,  670, 1000])},\n",
       "             scoring=&#x27;f1&#x27;)</pre></div></div></div><div class=\"sk-parallel\"><div class=\"sk-parallel-item\"><div class=\"sk-item\"><div class=\"sk-label-container\"><div class=\"sk-label sk-toggleable\"><input class=\"sk-toggleable__control sk-hidden--visually\" id=\"sk-estimator-id-8\" type=\"checkbox\" ><label for=\"sk-estimator-id-8\" class=\"sk-toggleable__label sk-toggleable__label-arrow\">estimator: RandomForestClassifier</label><div class=\"sk-toggleable__content\"><pre>RandomForestClassifier(random_state=42)</pre></div></div></div><div class=\"sk-serial\"><div class=\"sk-item\"><div class=\"sk-estimator sk-toggleable\"><input class=\"sk-toggleable__control sk-hidden--visually\" id=\"sk-estimator-id-9\" type=\"checkbox\" ><label for=\"sk-estimator-id-9\" class=\"sk-toggleable__label sk-toggleable__label-arrow\">RandomForestClassifier</label><div class=\"sk-toggleable__content\"><pre>RandomForestClassifier(random_state=42)</pre></div></div></div></div></div></div></div></div></div></div>"
      ],
      "text/plain": [
       "GridSearchCV(cv=5, estimator=RandomForestClassifier(random_state=42), n_jobs=-1,\n",
       "             param_grid={'criterion': ['gini', 'entropy'],\n",
       "                         'max_depth': array([  5,  52, 100]),\n",
       "                         'min_samples_leaf': array([ 1, 10, 20]),\n",
       "                         'n_estimators': array([  10,  340,  670, 1000])},\n",
       "             scoring='f1')"
      ]
     },
     "execution_count": 163,
     "metadata": {},
     "output_type": "execute_result"
    }
   ],
   "source": [
    "grid_search_rf = GridSearchCV(model, param_grid=params_grid_rf, scoring='f1', cv=5, n_jobs=-1)\n",
    "\n",
    "%time grid_search_rf.fit(X_train, y_train)"
   ]
  },
  {
   "cell_type": "code",
   "execution_count": 164,
   "metadata": {},
   "outputs": [
    {
     "name": "stdout",
     "output_type": "stream",
     "text": [
      "The F1 score on X_train using GridSearch and RandomForestClassifier:  1.0\n",
      "The F1 score on X_train using GridSearch and RandomForestClassifier:  0.8292682926829269\n",
      "The best hyper params are:  {'criterion': 'gini', 'max_depth': 52, 'min_samples_leaf': 1, 'n_estimators': 670}\n"
     ]
    }
   ],
   "source": [
    "print('The F1 score on X_train using GridSearch and RandomForestClassifier: ', grid_search_rf.score(X_train, y_train))\n",
    "print('The F1 score on X_train using GridSearch and RandomForestClassifier: ', grid_search_rf.score(X_test, y_test))\n",
    "print('The best hyper params are: ', grid_search_rf.best_params_)"
   ]
  },
  {
   "cell_type": "markdown",
   "metadata": {
    "tags": []
   },
   "source": [
    "### RandomizedSearch"
   ]
  },
  {
   "cell_type": "code",
   "execution_count": 157,
   "metadata": {},
   "outputs": [],
   "source": [
    "random_state = 42\n",
    "\n",
    "model = ensemble.RandomForestClassifier(random_state=random_state)\n",
    "\n",
    "params_grid_rf = {'n_estimators': np.linspace(10, 1000, 5, dtype=int),\n",
    "               'max_depth': np.linspace(5, 100, 5, dtype=int),\n",
    "               'criterion': [\"gini\", \"entropy\"],\n",
    "               'min_samples_leaf': np.linspace(1, 20, 5, dtype=int)} "
   ]
  },
  {
   "cell_type": "code",
   "execution_count": 160,
   "metadata": {},
   "outputs": [
    {
     "name": "stdout",
     "output_type": "stream",
     "text": [
      "CPU times: user 8.93 s, sys: 292 ms, total: 9.22 s\n",
      "Wall time: 1min 38s\n"
     ]
    },
    {
     "data": {
      "text/html": [
       "<style>#sk-container-id-2 {color: black;}#sk-container-id-2 pre{padding: 0;}#sk-container-id-2 div.sk-toggleable {background-color: white;}#sk-container-id-2 label.sk-toggleable__label {cursor: pointer;display: block;width: 100%;margin-bottom: 0;padding: 0.3em;box-sizing: border-box;text-align: center;}#sk-container-id-2 label.sk-toggleable__label-arrow:before {content: \"▸\";float: left;margin-right: 0.25em;color: #696969;}#sk-container-id-2 label.sk-toggleable__label-arrow:hover:before {color: black;}#sk-container-id-2 div.sk-estimator:hover label.sk-toggleable__label-arrow:before {color: black;}#sk-container-id-2 div.sk-toggleable__content {max-height: 0;max-width: 0;overflow: hidden;text-align: left;background-color: #f0f8ff;}#sk-container-id-2 div.sk-toggleable__content pre {margin: 0.2em;color: black;border-radius: 0.25em;background-color: #f0f8ff;}#sk-container-id-2 input.sk-toggleable__control:checked~div.sk-toggleable__content {max-height: 200px;max-width: 100%;overflow: auto;}#sk-container-id-2 input.sk-toggleable__control:checked~label.sk-toggleable__label-arrow:before {content: \"▾\";}#sk-container-id-2 div.sk-estimator input.sk-toggleable__control:checked~label.sk-toggleable__label {background-color: #d4ebff;}#sk-container-id-2 div.sk-label input.sk-toggleable__control:checked~label.sk-toggleable__label {background-color: #d4ebff;}#sk-container-id-2 input.sk-hidden--visually {border: 0;clip: rect(1px 1px 1px 1px);clip: rect(1px, 1px, 1px, 1px);height: 1px;margin: -1px;overflow: hidden;padding: 0;position: absolute;width: 1px;}#sk-container-id-2 div.sk-estimator {font-family: monospace;background-color: #f0f8ff;border: 1px dotted black;border-radius: 0.25em;box-sizing: border-box;margin-bottom: 0.5em;}#sk-container-id-2 div.sk-estimator:hover {background-color: #d4ebff;}#sk-container-id-2 div.sk-parallel-item::after {content: \"\";width: 100%;border-bottom: 1px solid gray;flex-grow: 1;}#sk-container-id-2 div.sk-label:hover label.sk-toggleable__label {background-color: #d4ebff;}#sk-container-id-2 div.sk-serial::before {content: \"\";position: absolute;border-left: 1px solid gray;box-sizing: border-box;top: 0;bottom: 0;left: 50%;z-index: 0;}#sk-container-id-2 div.sk-serial {display: flex;flex-direction: column;align-items: center;background-color: white;padding-right: 0.2em;padding-left: 0.2em;position: relative;}#sk-container-id-2 div.sk-item {position: relative;z-index: 1;}#sk-container-id-2 div.sk-parallel {display: flex;align-items: stretch;justify-content: center;background-color: white;position: relative;}#sk-container-id-2 div.sk-item::before, #sk-container-id-2 div.sk-parallel-item::before {content: \"\";position: absolute;border-left: 1px solid gray;box-sizing: border-box;top: 0;bottom: 0;left: 50%;z-index: -1;}#sk-container-id-2 div.sk-parallel-item {display: flex;flex-direction: column;z-index: 1;position: relative;background-color: white;}#sk-container-id-2 div.sk-parallel-item:first-child::after {align-self: flex-end;width: 50%;}#sk-container-id-2 div.sk-parallel-item:last-child::after {align-self: flex-start;width: 50%;}#sk-container-id-2 div.sk-parallel-item:only-child::after {width: 0;}#sk-container-id-2 div.sk-dashed-wrapped {border: 1px dashed gray;margin: 0 0.4em 0.5em 0.4em;box-sizing: border-box;padding-bottom: 0.4em;background-color: white;}#sk-container-id-2 div.sk-label label {font-family: monospace;font-weight: bold;display: inline-block;line-height: 1.2em;}#sk-container-id-2 div.sk-label-container {text-align: center;}#sk-container-id-2 div.sk-container {/* jupyter's `normalize.less` sets `[hidden] { display: none; }` but bootstrap.min.css set `[hidden] { display: none !important; }` so we also need the `!important` here to be able to override the default hidden behavior on the sphinx rendered scikit-learn.org. See: https://github.com/scikit-learn/scikit-learn/issues/21755 */display: inline-block !important;position: relative;}#sk-container-id-2 div.sk-text-repr-fallback {display: none;}</style><div id=\"sk-container-id-2\" class=\"sk-top-container\"><div class=\"sk-text-repr-fallback\"><pre>RandomizedSearchCV(cv=5, estimator=RandomForestClassifier(random_state=42),\n",
       "                   n_iter=50, n_jobs=-1,\n",
       "                   param_distributions={&#x27;criterion&#x27;: [&#x27;gini&#x27;, &#x27;entropy&#x27;],\n",
       "                                        &#x27;max_depth&#x27;: array([  5,  28,  52,  76, 100]),\n",
       "                                        &#x27;min_samples_leaf&#x27;: array([ 1,  5, 10, 15, 20]),\n",
       "                                        &#x27;n_estimators&#x27;: array([  10,  257,  505,  752, 1000])},\n",
       "                   scoring=&#x27;f1&#x27;)</pre><b>In a Jupyter environment, please rerun this cell to show the HTML representation or trust the notebook. <br />On GitHub, the HTML representation is unable to render, please try loading this page with nbviewer.org.</b></div><div class=\"sk-container\" hidden><div class=\"sk-item sk-dashed-wrapped\"><div class=\"sk-label-container\"><div class=\"sk-label sk-toggleable\"><input class=\"sk-toggleable__control sk-hidden--visually\" id=\"sk-estimator-id-4\" type=\"checkbox\" ><label for=\"sk-estimator-id-4\" class=\"sk-toggleable__label sk-toggleable__label-arrow\">RandomizedSearchCV</label><div class=\"sk-toggleable__content\"><pre>RandomizedSearchCV(cv=5, estimator=RandomForestClassifier(random_state=42),\n",
       "                   n_iter=50, n_jobs=-1,\n",
       "                   param_distributions={&#x27;criterion&#x27;: [&#x27;gini&#x27;, &#x27;entropy&#x27;],\n",
       "                                        &#x27;max_depth&#x27;: array([  5,  28,  52,  76, 100]),\n",
       "                                        &#x27;min_samples_leaf&#x27;: array([ 1,  5, 10, 15, 20]),\n",
       "                                        &#x27;n_estimators&#x27;: array([  10,  257,  505,  752, 1000])},\n",
       "                   scoring=&#x27;f1&#x27;)</pre></div></div></div><div class=\"sk-parallel\"><div class=\"sk-parallel-item\"><div class=\"sk-item\"><div class=\"sk-label-container\"><div class=\"sk-label sk-toggleable\"><input class=\"sk-toggleable__control sk-hidden--visually\" id=\"sk-estimator-id-5\" type=\"checkbox\" ><label for=\"sk-estimator-id-5\" class=\"sk-toggleable__label sk-toggleable__label-arrow\">estimator: RandomForestClassifier</label><div class=\"sk-toggleable__content\"><pre>RandomForestClassifier(random_state=42)</pre></div></div></div><div class=\"sk-serial\"><div class=\"sk-item\"><div class=\"sk-estimator sk-toggleable\"><input class=\"sk-toggleable__control sk-hidden--visually\" id=\"sk-estimator-id-6\" type=\"checkbox\" ><label for=\"sk-estimator-id-6\" class=\"sk-toggleable__label sk-toggleable__label-arrow\">RandomForestClassifier</label><div class=\"sk-toggleable__content\"><pre>RandomForestClassifier(random_state=42)</pre></div></div></div></div></div></div></div></div></div></div>"
      ],
      "text/plain": [
       "RandomizedSearchCV(cv=5, estimator=RandomForestClassifier(random_state=42),\n",
       "                   n_iter=50, n_jobs=-1,\n",
       "                   param_distributions={'criterion': ['gini', 'entropy'],\n",
       "                                        'max_depth': array([  5,  28,  52,  76, 100]),\n",
       "                                        'min_samples_leaf': array([ 1,  5, 10, 15, 20]),\n",
       "                                        'n_estimators': array([  10,  257,  505,  752, 1000])},\n",
       "                   scoring='f1')"
      ]
     },
     "execution_count": 160,
     "metadata": {},
     "output_type": "execute_result"
    }
   ],
   "source": [
    "randomize_search_rf = RandomizedSearchCV(model, param_distributions=params_grid_rf, cv=5, scoring='f1', n_jobs=-1, n_iter=50)\n",
    "\n",
    "%time randomize_search_rf.fit(X_train, y_train)"
   ]
  },
  {
   "cell_type": "code",
   "execution_count": 161,
   "metadata": {},
   "outputs": [
    {
     "name": "stdout",
     "output_type": "stream",
     "text": [
      "The F1 score on X_train using RandomizedSearch and RandomForestClassifier:  1.0\n",
      "The F1 score on X_train using RandomizedSearch and RandomForestClassifier:  0.8310185185185186\n",
      "The best hyper params are:  {'n_estimators': 752, 'min_samples_leaf': 1, 'max_depth': 28, 'criterion': 'entropy'}\n"
     ]
    }
   ],
   "source": [
    "print('The F1 score on X_train using RandomizedSearch and RandomForestClassifier: ', randomize_search_rf.score(X_train, y_train))\n",
    "print('The F1 score on X_train using RandomizedSearch and RandomForestClassifier: ', randomize_search_rf.score(X_test, y_test))\n",
    "print('The best hyper params are: ', randomize_search_rf.best_params_)"
   ]
  },
  {
   "cell_type": "markdown",
   "metadata": {
    "tags": []
   },
   "source": [
    "### Hyperopt"
   ]
  },
  {
   "cell_type": "code",
   "execution_count": 185,
   "metadata": {
    "tags": []
   },
   "outputs": [],
   "source": [
    "# create space\n",
    "space_rf = {'n_estimators': hp.quniform('n_estimators', 10, 1000, 50),\n",
    "        'max_depth': hp.quniform('max_depth', 5, 100, 5),\n",
    "        'min_samples_leaf': hp.quniform('min_samples_leaf', 1, 10, 1),\n",
    "        'criterion': hp.choice('criterion', [\"gini\", \"entropy\", \"log_loss\"]),\n",
    "        'max_features': hp.choice('max_features', [\"sqrt\", \"log2\", None])}"
   ]
  },
  {
   "cell_type": "code",
   "execution_count": 8,
   "metadata": {},
   "outputs": [],
   "source": [
    "random_state = 42\n",
    "\n",
    "# def objective function\n",
    "def hyperopt_rf(params, X=X_train, y=y_train, cv=5, random_state=random_state):\n",
    "    \n",
    "    model_params = {'n_estimators': int(params['n_estimators']),\n",
    "        'max_depth': int(params['max_depth']),\n",
    "        'min_samples_leaf': int(params['min_samples_leaf']),\n",
    "        'criterion': params['criterion'],\n",
    "        'max_features': params['max_features']}\n",
    "    # initialize model\n",
    "    model = ensemble.RandomForestClassifier(**model_params, random_state=random_state)\n",
    "    \n",
    "    # cross validation\n",
    "    score = model_selection.cross_val_score(model, X, y, scoring='f1', cv=cv, n_jobs=-1).mean()\n",
    "    \n",
    "    return -score"
   ]
  },
  {
   "cell_type": "code",
   "execution_count": 187,
   "metadata": {},
   "outputs": [
    {
     "name": "stdout",
     "output_type": "stream",
     "text": [
      "100%|██████| 50/50 [1:04:16<00:00, 77.13s/trial, best loss: -0.8167261696392407]\n"
     ]
    }
   ],
   "source": [
    "# set to log trials attempt\n",
    "trials_rf = Trials()\n",
    "\n",
    "# initialize fmin minimization function\n",
    "best = fmin(fn=hyperopt_rf, space=space_rf, trials=trials_rf, algo=tpe.suggest, max_evals=50, rstate=np.random.default_rng(random_state))"
   ]
  },
  {
   "cell_type": "code",
   "execution_count": 189,
   "metadata": {},
   "outputs": [
    {
     "name": "stdout",
     "output_type": "stream",
     "text": [
      "{'criterion': 'entropy', 'max_depth': 65.0, 'max_features': None, 'min_samples_leaf': 1.0, 'n_estimators': 800.0}\n"
     ]
    }
   ],
   "source": [
    "# Best hyperparameters\n",
    "print(hyperopt.space_eval(space_rf, best))"
   ]
  },
  {
   "cell_type": "code",
   "execution_count": 6,
   "metadata": {},
   "outputs": [],
   "source": [
    "# initialize Random Forest model with the best hyper params we received from HyperOpt\n",
    "model = ensemble.RandomForestClassifier(\n",
    "    criterion='entropy', \n",
    "    max_depth=65, \n",
    "    max_features=None, \n",
    "    min_samples_leaf=1, \n",
    "    n_estimators=800, \n",
    "    random_state=42,\n",
    "    n_jobs=-1\n",
    ")"
   ]
  },
  {
   "cell_type": "code",
   "execution_count": 7,
   "metadata": {},
   "outputs": [
    {
     "data": {
      "text/html": [
       "<style>#sk-container-id-1 {color: black;}#sk-container-id-1 pre{padding: 0;}#sk-container-id-1 div.sk-toggleable {background-color: white;}#sk-container-id-1 label.sk-toggleable__label {cursor: pointer;display: block;width: 100%;margin-bottom: 0;padding: 0.3em;box-sizing: border-box;text-align: center;}#sk-container-id-1 label.sk-toggleable__label-arrow:before {content: \"▸\";float: left;margin-right: 0.25em;color: #696969;}#sk-container-id-1 label.sk-toggleable__label-arrow:hover:before {color: black;}#sk-container-id-1 div.sk-estimator:hover label.sk-toggleable__label-arrow:before {color: black;}#sk-container-id-1 div.sk-toggleable__content {max-height: 0;max-width: 0;overflow: hidden;text-align: left;background-color: #f0f8ff;}#sk-container-id-1 div.sk-toggleable__content pre {margin: 0.2em;color: black;border-radius: 0.25em;background-color: #f0f8ff;}#sk-container-id-1 input.sk-toggleable__control:checked~div.sk-toggleable__content {max-height: 200px;max-width: 100%;overflow: auto;}#sk-container-id-1 input.sk-toggleable__control:checked~label.sk-toggleable__label-arrow:before {content: \"▾\";}#sk-container-id-1 div.sk-estimator input.sk-toggleable__control:checked~label.sk-toggleable__label {background-color: #d4ebff;}#sk-container-id-1 div.sk-label input.sk-toggleable__control:checked~label.sk-toggleable__label {background-color: #d4ebff;}#sk-container-id-1 input.sk-hidden--visually {border: 0;clip: rect(1px 1px 1px 1px);clip: rect(1px, 1px, 1px, 1px);height: 1px;margin: -1px;overflow: hidden;padding: 0;position: absolute;width: 1px;}#sk-container-id-1 div.sk-estimator {font-family: monospace;background-color: #f0f8ff;border: 1px dotted black;border-radius: 0.25em;box-sizing: border-box;margin-bottom: 0.5em;}#sk-container-id-1 div.sk-estimator:hover {background-color: #d4ebff;}#sk-container-id-1 div.sk-parallel-item::after {content: \"\";width: 100%;border-bottom: 1px solid gray;flex-grow: 1;}#sk-container-id-1 div.sk-label:hover label.sk-toggleable__label {background-color: #d4ebff;}#sk-container-id-1 div.sk-serial::before {content: \"\";position: absolute;border-left: 1px solid gray;box-sizing: border-box;top: 0;bottom: 0;left: 50%;z-index: 0;}#sk-container-id-1 div.sk-serial {display: flex;flex-direction: column;align-items: center;background-color: white;padding-right: 0.2em;padding-left: 0.2em;position: relative;}#sk-container-id-1 div.sk-item {position: relative;z-index: 1;}#sk-container-id-1 div.sk-parallel {display: flex;align-items: stretch;justify-content: center;background-color: white;position: relative;}#sk-container-id-1 div.sk-item::before, #sk-container-id-1 div.sk-parallel-item::before {content: \"\";position: absolute;border-left: 1px solid gray;box-sizing: border-box;top: 0;bottom: 0;left: 50%;z-index: -1;}#sk-container-id-1 div.sk-parallel-item {display: flex;flex-direction: column;z-index: 1;position: relative;background-color: white;}#sk-container-id-1 div.sk-parallel-item:first-child::after {align-self: flex-end;width: 50%;}#sk-container-id-1 div.sk-parallel-item:last-child::after {align-self: flex-start;width: 50%;}#sk-container-id-1 div.sk-parallel-item:only-child::after {width: 0;}#sk-container-id-1 div.sk-dashed-wrapped {border: 1px dashed gray;margin: 0 0.4em 0.5em 0.4em;box-sizing: border-box;padding-bottom: 0.4em;background-color: white;}#sk-container-id-1 div.sk-label label {font-family: monospace;font-weight: bold;display: inline-block;line-height: 1.2em;}#sk-container-id-1 div.sk-label-container {text-align: center;}#sk-container-id-1 div.sk-container {/* jupyter's `normalize.less` sets `[hidden] { display: none; }` but bootstrap.min.css set `[hidden] { display: none !important; }` so we also need the `!important` here to be able to override the default hidden behavior on the sphinx rendered scikit-learn.org. See: https://github.com/scikit-learn/scikit-learn/issues/21755 */display: inline-block !important;position: relative;}#sk-container-id-1 div.sk-text-repr-fallback {display: none;}</style><div id=\"sk-container-id-1\" class=\"sk-top-container\"><div class=\"sk-text-repr-fallback\"><pre>RandomForestClassifier(criterion=&#x27;entropy&#x27;, max_depth=65, max_features=None,\n",
       "                       n_estimators=800, n_jobs=-1, random_state=42)</pre><b>In a Jupyter environment, please rerun this cell to show the HTML representation or trust the notebook. <br />On GitHub, the HTML representation is unable to render, please try loading this page with nbviewer.org.</b></div><div class=\"sk-container\" hidden><div class=\"sk-item\"><div class=\"sk-estimator sk-toggleable\"><input class=\"sk-toggleable__control sk-hidden--visually\" id=\"sk-estimator-id-1\" type=\"checkbox\" checked><label for=\"sk-estimator-id-1\" class=\"sk-toggleable__label sk-toggleable__label-arrow\">RandomForestClassifier</label><div class=\"sk-toggleable__content\"><pre>RandomForestClassifier(criterion=&#x27;entropy&#x27;, max_depth=65, max_features=None,\n",
       "                       n_estimators=800, n_jobs=-1, random_state=42)</pre></div></div></div></div></div>"
      ],
      "text/plain": [
       "RandomForestClassifier(criterion='entropy', max_depth=65, max_features=None,\n",
       "                       n_estimators=800, n_jobs=-1, random_state=42)"
      ]
     },
     "execution_count": 7,
     "metadata": {},
     "output_type": "execute_result"
    }
   ],
   "source": [
    "# fit the model on Train data set\n",
    "model.fit(X_train, y_train)"
   ]
  },
  {
   "cell_type": "code",
   "execution_count": 8,
   "metadata": {},
   "outputs": [],
   "source": [
    "# make predictions for Train and Test data set\n",
    "y_train_predict = model.predict(X_train)\n",
    "y_test_predict = model.predict(X_test)"
   ]
  },
  {
   "cell_type": "code",
   "execution_count": 9,
   "metadata": {},
   "outputs": [
    {
     "name": "stdout",
     "output_type": "stream",
     "text": [
      "The F1 score for Train data set:  1.0\n",
      "The F1 score for Test data set:  0.8192219679633868\n"
     ]
    }
   ],
   "source": [
    "# print F1 score for Train and Test\n",
    "print('The F1 score for Train data set: ', metrics.f1_score(y_train, y_train_predict))\n",
    "print('The F1 score for Test data set: ', metrics.f1_score(y_test, y_test_predict))"
   ]
  },
  {
   "cell_type": "markdown",
   "metadata": {
    "tags": []
   },
   "source": [
    "### Optuna"
   ]
  },
  {
   "cell_type": "code",
   "execution_count": 17,
   "metadata": {},
   "outputs": [],
   "source": [
    "random_state = 42\n",
    "\n",
    "def optuna_rf(trial, X=X_train, y=y_train, cv=5):\n",
    "    n_estimators = trial.suggest_int('n_estimators', 10, 960, step=50)\n",
    "    max_depth = trial.suggest_int('max_depth', 5, 100, step=5)\n",
    "    min_samples_leaf = trial.suggest_int('min_samples_leaf', 1, 10, step=1)\n",
    "    criterion = trial.suggest_categorical('criterion', ['gini', 'entropy'])\n",
    "    max_features = trial.suggest_categorical('max_features', ['sqrt', 'log2', None])\n",
    "    \n",
    "    model = ensemble.RandomForestClassifier(\n",
    "        n_estimators=n_estimators, \n",
    "        max_depth=max_depth, \n",
    "        min_samples_leaf=min_samples_leaf, \n",
    "        criterion=criterion, \n",
    "        max_features=max_features, \n",
    "        random_state=random_state\n",
    "    )\n",
    "    \n",
    "    score = model_selection.cross_val_score(model, X, y, cv=cv, scoring='f1', n_jobs=-1).mean()\n",
    "    \n",
    "    return score\n"
   ]
  },
  {
   "cell_type": "code",
   "execution_count": 18,
   "metadata": {},
   "outputs": [
    {
     "name": "stderr",
     "output_type": "stream",
     "text": [
      "[I 2023-12-11 19:27:33,573] A new study created in memory with name: RandomForestClassifier\n",
      "[I 2023-12-11 19:27:34,724] Trial 0 finished with value: 0.7615474393656083 and parameters: {'n_estimators': 60, 'max_depth': 15, 'min_samples_leaf': 10, 'criterion': 'gini', 'max_features': 'log2'}. Best is trial 0 with value: 0.7615474393656083.\n",
      "[I 2023-12-11 19:30:38,142] Trial 1 finished with value: 0.8078550752848107 and parameters: {'n_estimators': 960, 'max_depth': 75, 'min_samples_leaf': 8, 'criterion': 'gini', 'max_features': None}. Best is trial 1 with value: 0.8078550752848107.\n",
      "[I 2023-12-11 19:30:41,376] Trial 2 finished with value: 0.8001491474504924 and parameters: {'n_estimators': 510, 'max_depth': 10, 'min_samples_leaf': 2, 'criterion': 'gini', 'max_features': 'sqrt'}. Best is trial 1 with value: 0.8078550752848107.\n",
      "[I 2023-12-11 19:30:43,011] Trial 3 finished with value: 0.767584033633215 and parameters: {'n_estimators': 410, 'max_depth': 85, 'min_samples_leaf': 10, 'criterion': 'gini', 'max_features': 'log2'}. Best is trial 1 with value: 0.8078550752848107.\n",
      "[I 2023-12-11 19:30:45,078] Trial 4 finished with value: 0.7975153158578291 and parameters: {'n_estimators': 210, 'max_depth': 90, 'min_samples_leaf': 8, 'criterion': 'entropy', 'max_features': 'sqrt'}. Best is trial 1 with value: 0.8078550752848107.\n",
      "[I 2023-12-11 19:30:47,984] Trial 5 finished with value: 0.7500369398666245 and parameters: {'n_estimators': 610, 'max_depth': 5, 'min_samples_leaf': 1, 'criterion': 'entropy', 'max_features': 'sqrt'}. Best is trial 1 with value: 0.8078550752848107.\n",
      "[I 2023-12-11 19:34:03,301] Trial 6 finished with value: 0.8154723102756529 and parameters: {'n_estimators': 710, 'max_depth': 100, 'min_samples_leaf': 2, 'criterion': 'gini', 'max_features': None}. Best is trial 6 with value: 0.8154723102756529.\n",
      "[I 2023-12-11 19:34:06,319] Trial 7 finished with value: 0.7985291853060721 and parameters: {'n_estimators': 910, 'max_depth': 25, 'min_samples_leaf': 2, 'criterion': 'gini', 'max_features': 'log2'}. Best is trial 6 with value: 0.8154723102756529.\n",
      "[I 2023-12-11 19:34:08,565] Trial 8 finished with value: 0.8014011895045696 and parameters: {'n_estimators': 660, 'max_depth': 70, 'min_samples_leaf': 2, 'criterion': 'gini', 'max_features': 'log2'}. Best is trial 6 with value: 0.8154723102756529.\n",
      "[I 2023-12-11 19:34:11,173] Trial 9 finished with value: 0.7973069913825475 and parameters: {'n_estimators': 360, 'max_depth': 85, 'min_samples_leaf': 7, 'criterion': 'entropy', 'max_features': 'sqrt'}. Best is trial 6 with value: 0.8154723102756529.\n",
      "[I 2023-12-11 19:36:46,864] Trial 10 finished with value: 0.8138708618167 and parameters: {'n_estimators': 760, 'max_depth': 45, 'min_samples_leaf': 4, 'criterion': 'entropy', 'max_features': None}. Best is trial 6 with value: 0.8154723102756529.\n",
      "[I 2023-12-11 19:39:26,193] Trial 11 finished with value: 0.8138708618167 and parameters: {'n_estimators': 760, 'max_depth': 45, 'min_samples_leaf': 4, 'criterion': 'entropy', 'max_features': None}. Best is trial 6 with value: 0.8154723102756529.\n",
      "[I 2023-12-11 19:42:12,074] Trial 12 finished with value: 0.8152044015618986 and parameters: {'n_estimators': 810, 'max_depth': 45, 'min_samples_leaf': 4, 'criterion': 'entropy', 'max_features': None}. Best is trial 6 with value: 0.8154723102756529.\n",
      "[I 2023-12-11 19:44:58,637] Trial 13 finished with value: 0.8152044015618986 and parameters: {'n_estimators': 810, 'max_depth': 60, 'min_samples_leaf': 4, 'criterion': 'entropy', 'max_features': None}. Best is trial 6 with value: 0.8154723102756529.\n",
      "[I 2023-12-11 19:47:04,640] Trial 14 finished with value: 0.810374390832914 and parameters: {'n_estimators': 610, 'max_depth': 40, 'min_samples_leaf': 6, 'criterion': 'gini', 'max_features': None}. Best is trial 6 with value: 0.8154723102756529.\n",
      "[I 2023-12-11 19:49:54,235] Trial 15 finished with value: 0.812904282558611 and parameters: {'n_estimators': 860, 'max_depth': 100, 'min_samples_leaf': 5, 'criterion': 'entropy', 'max_features': None}. Best is trial 6 with value: 0.8154723102756529.\n",
      "[I 2023-12-11 19:52:22,244] Trial 16 finished with value: 0.8162750108267238 and parameters: {'n_estimators': 710, 'max_depth': 30, 'min_samples_leaf': 3, 'criterion': 'entropy', 'max_features': None}. Best is trial 16 with value: 0.8162750108267238.\n",
      "[I 2023-12-11 19:54:41,570] Trial 17 finished with value: 0.8120693368606828 and parameters: {'n_estimators': 460, 'max_depth': 35, 'min_samples_leaf': 1, 'criterion': 'gini', 'max_features': None}. Best is trial 16 with value: 0.8162750108267238.\n",
      "[I 2023-12-11 19:57:27,117] Trial 18 finished with value: 0.8146498642093446 and parameters: {'n_estimators': 660, 'max_depth': 60, 'min_samples_leaf': 3, 'criterion': 'gini', 'max_features': None}. Best is trial 16 with value: 0.8162750108267238.\n",
      "[I 2023-12-11 19:59:25,862] Trial 19 finished with value: 0.8164429427869335 and parameters: {'n_estimators': 560, 'max_depth': 25, 'min_samples_leaf': 3, 'criterion': 'entropy', 'max_features': None}. Best is trial 19 with value: 0.8164429427869335.\n",
      "[I 2023-12-11 20:00:07,088] Trial 20 finished with value: 0.8095747434259906 and parameters: {'n_estimators': 210, 'max_depth': 25, 'min_samples_leaf': 5, 'criterion': 'entropy', 'max_features': None}. Best is trial 19 with value: 0.8164429427869335.\n",
      "[I 2023-12-11 20:02:06,062] Trial 21 finished with value: 0.8164429427869335 and parameters: {'n_estimators': 560, 'max_depth': 25, 'min_samples_leaf': 3, 'criterion': 'entropy', 'max_features': None}. Best is trial 19 with value: 0.8164429427869335.\n",
      "[I 2023-12-11 20:04:05,348] Trial 22 finished with value: 0.8164429427869335 and parameters: {'n_estimators': 560, 'max_depth': 25, 'min_samples_leaf': 3, 'criterion': 'entropy', 'max_features': None}. Best is trial 19 with value: 0.8164429427869335.\n",
      "[I 2023-12-11 20:05:52,737] Trial 23 finished with value: 0.8158889097974124 and parameters: {'n_estimators': 510, 'max_depth': 20, 'min_samples_leaf': 3, 'criterion': 'entropy', 'max_features': None}. Best is trial 19 with value: 0.8164429427869335.\n",
      "[I 2023-12-11 20:07:06,151] Trial 24 finished with value: 0.8109388655557324 and parameters: {'n_estimators': 360, 'max_depth': 15, 'min_samples_leaf': 3, 'criterion': 'entropy', 'max_features': None}. Best is trial 19 with value: 0.8164429427869335.\n",
      "[I 2023-12-11 20:08:53,692] Trial 25 finished with value: 0.8117986798477126 and parameters: {'n_estimators': 560, 'max_depth': 30, 'min_samples_leaf': 6, 'criterion': 'entropy', 'max_features': None}. Best is trial 19 with value: 0.8164429427869335.\n",
      "[I 2023-12-11 20:09:27,584] Trial 26 finished with value: 0.7907633306474395 and parameters: {'n_estimators': 310, 'max_depth': 5, 'min_samples_leaf': 1, 'criterion': 'entropy', 'max_features': None}. Best is trial 19 with value: 0.8164429427869335.\n",
      "[I 2023-12-11 20:11:18,117] Trial 27 finished with value: 0.8135364824531465 and parameters: {'n_estimators': 560, 'max_depth': 55, 'min_samples_leaf': 5, 'criterion': 'entropy', 'max_features': None}. Best is trial 19 with value: 0.8164429427869335.\n",
      "[I 2023-12-11 20:11:22,628] Trial 28 finished with value: 0.8105270936991824 and parameters: {'n_estimators': 460, 'max_depth': 35, 'min_samples_leaf': 3, 'criterion': 'entropy', 'max_features': 'sqrt'}. Best is trial 19 with value: 0.8164429427869335.\n",
      "[I 2023-12-11 20:11:23,559] Trial 29 finished with value: 0.7833010565540607 and parameters: {'n_estimators': 260, 'max_depth': 15, 'min_samples_leaf': 4, 'criterion': 'entropy', 'max_features': 'log2'}. Best is trial 19 with value: 0.8164429427869335.\n",
      "[I 2023-12-11 20:11:23,957] Trial 30 finished with value: 0.797147612623848 and parameters: {'n_estimators': 60, 'max_depth': 20, 'min_samples_leaf': 2, 'criterion': 'entropy', 'max_features': 'log2'}. Best is trial 19 with value: 0.8164429427869335.\n",
      "[I 2023-12-11 20:13:43,890] Trial 31 finished with value: 0.8163637428293573 and parameters: {'n_estimators': 660, 'max_depth': 30, 'min_samples_leaf': 3, 'criterion': 'entropy', 'max_features': None}. Best is trial 19 with value: 0.8164429427869335.\n",
      "[I 2023-12-11 20:15:42,218] Trial 32 finished with value: 0.8164429427869335 and parameters: {'n_estimators': 560, 'max_depth': 25, 'min_samples_leaf': 3, 'criterion': 'entropy', 'max_features': None}. Best is trial 19 with value: 0.8164429427869335.\n",
      "[I 2023-12-11 20:17:44,725] Trial 33 finished with value: 0.81614454179844 and parameters: {'n_estimators': 560, 'max_depth': 20, 'min_samples_leaf': 2, 'criterion': 'entropy', 'max_features': None}. Best is trial 19 with value: 0.8164429427869335.\n",
      "[I 2023-12-11 20:18:50,135] Trial 34 finished with value: 0.8025576223088915 and parameters: {'n_estimators': 410, 'max_depth': 10, 'min_samples_leaf': 10, 'criterion': 'entropy', 'max_features': None}. Best is trial 19 with value: 0.8164429427869335.\n",
      "[I 2023-12-11 20:20:34,853] Trial 35 finished with value: 0.813762015857532 and parameters: {'n_estimators': 510, 'max_depth': 35, 'min_samples_leaf': 4, 'criterion': 'entropy', 'max_features': None}. Best is trial 19 with value: 0.8164429427869335.\n",
      "[I 2023-12-11 20:20:40,557] Trial 36 finished with value: 0.8108486676768216 and parameters: {'n_estimators': 610, 'max_depth': 25, 'min_samples_leaf': 1, 'criterion': 'entropy', 'max_features': 'sqrt'}. Best is trial 19 with value: 0.8164429427869335.\n",
      "[I 2023-12-11 20:21:52,344] Trial 37 finished with value: 0.8055829511687815 and parameters: {'n_estimators': 410, 'max_depth': 10, 'min_samples_leaf': 5, 'criterion': 'entropy', 'max_features': None}. Best is trial 19 with value: 0.8164429427869335.\n",
      "[I 2023-12-11 20:21:54,705] Trial 38 finished with value: 0.7994066653880598 and parameters: {'n_estimators': 510, 'max_depth': 40, 'min_samples_leaf': 3, 'criterion': 'entropy', 'max_features': 'log2'}. Best is trial 19 with value: 0.8164429427869335.\n",
      "[I 2023-12-11 20:21:58,453] Trial 39 finished with value: 0.8017463347575381 and parameters: {'n_estimators': 560, 'max_depth': 10, 'min_samples_leaf': 2, 'criterion': 'entropy', 'max_features': 'sqrt'}. Best is trial 19 with value: 0.8164429427869335.\n",
      "[I 2023-12-11 20:24:47,097] Trial 40 finished with value: 0.8064166953536723 and parameters: {'n_estimators': 960, 'max_depth': 50, 'min_samples_leaf': 9, 'criterion': 'entropy', 'max_features': None}. Best is trial 19 with value: 0.8164429427869335.\n",
      "[I 2023-12-11 20:27:07,128] Trial 41 finished with value: 0.8163637428293573 and parameters: {'n_estimators': 660, 'max_depth': 30, 'min_samples_leaf': 3, 'criterion': 'entropy', 'max_features': None}. Best is trial 19 with value: 0.8164429427869335.\n",
      "[I 2023-12-11 20:29:41,288] Trial 42 finished with value: 0.8156454000450053 and parameters: {'n_estimators': 710, 'max_depth': 25, 'min_samples_leaf': 2, 'criterion': 'entropy', 'max_features': None}. Best is trial 19 with value: 0.8164429427869335.\n",
      "[I 2023-12-11 20:31:54,571] Trial 43 finished with value: 0.8156414460680619 and parameters: {'n_estimators': 610, 'max_depth': 20, 'min_samples_leaf': 2, 'criterion': 'entropy', 'max_features': None}. Best is trial 19 with value: 0.8164429427869335.\n",
      "[I 2023-12-11 20:34:09,398] Trial 44 finished with value: 0.814974291803348 and parameters: {'n_estimators': 660, 'max_depth': 30, 'min_samples_leaf': 4, 'criterion': 'entropy', 'max_features': None}. Best is trial 19 with value: 0.8164429427869335.\n",
      "[I 2023-12-11 20:35:49,350] Trial 45 finished with value: 0.8144362413971811 and parameters: {'n_estimators': 460, 'max_depth': 15, 'min_samples_leaf': 3, 'criterion': 'gini', 'max_features': None}. Best is trial 19 with value: 0.8164429427869335.\n",
      "[I 2023-12-11 20:38:24,837] Trial 46 finished with value: 0.8138708618167 and parameters: {'n_estimators': 760, 'max_depth': 40, 'min_samples_leaf': 4, 'criterion': 'entropy', 'max_features': None}. Best is trial 19 with value: 0.8164429427869335.\n",
      "[I 2023-12-11 20:38:26,561] Trial 47 finished with value: 0.7369825266716241 and parameters: {'n_estimators': 610, 'max_depth': 5, 'min_samples_leaf': 1, 'criterion': 'entropy', 'max_features': 'log2'}. Best is trial 19 with value: 0.8164429427869335.\n",
      "[I 2023-12-11 20:38:30,696] Trial 48 finished with value: 0.8021422918795833 and parameters: {'n_estimators': 560, 'max_depth': 75, 'min_samples_leaf': 7, 'criterion': 'gini', 'max_features': 'sqrt'}. Best is trial 19 with value: 0.8164429427869335.\n",
      "[I 2023-12-11 20:41:01,002] Trial 49 finished with value: 0.8162750108267238 and parameters: {'n_estimators': 710, 'max_depth': 35, 'min_samples_leaf': 3, 'criterion': 'entropy', 'max_features': None}. Best is trial 19 with value: 0.8164429427869335.\n"
     ]
    },
    {
     "name": "stdout",
     "output_type": "stream",
     "text": [
      "CPU times: user 5.02 s, sys: 2.39 s, total: 7.41 s\n",
      "Wall time: 1h 13min 27s\n"
     ]
    }
   ],
   "source": [
    "%%time\n",
    "\n",
    "study_rf = optuna.create_study(study_name='RandomForestClassifier', direction='maximize')\n",
    "\n",
    "study_rf.optimize(optuna_rf, n_trials=50)"
   ]
  },
  {
   "cell_type": "code",
   "execution_count": 20,
   "metadata": {},
   "outputs": [
    {
     "name": "stdout",
     "output_type": "stream",
     "text": [
      "The best params using Optuna optimization:  {'n_estimators': 560, 'max_depth': 25, 'min_samples_leaf': 3, 'criterion': 'entropy', 'max_features': None}\n"
     ]
    }
   ],
   "source": [
    "# best params\n",
    "print('The best params using Optuna optimization: ', study_rf.best_params)"
   ]
  },
  {
   "cell_type": "code",
   "execution_count": 22,
   "metadata": {},
   "outputs": [
    {
     "data": {
      "text/html": [
       "<style>#sk-container-id-2 {color: black;}#sk-container-id-2 pre{padding: 0;}#sk-container-id-2 div.sk-toggleable {background-color: white;}#sk-container-id-2 label.sk-toggleable__label {cursor: pointer;display: block;width: 100%;margin-bottom: 0;padding: 0.3em;box-sizing: border-box;text-align: center;}#sk-container-id-2 label.sk-toggleable__label-arrow:before {content: \"▸\";float: left;margin-right: 0.25em;color: #696969;}#sk-container-id-2 label.sk-toggleable__label-arrow:hover:before {color: black;}#sk-container-id-2 div.sk-estimator:hover label.sk-toggleable__label-arrow:before {color: black;}#sk-container-id-2 div.sk-toggleable__content {max-height: 0;max-width: 0;overflow: hidden;text-align: left;background-color: #f0f8ff;}#sk-container-id-2 div.sk-toggleable__content pre {margin: 0.2em;color: black;border-radius: 0.25em;background-color: #f0f8ff;}#sk-container-id-2 input.sk-toggleable__control:checked~div.sk-toggleable__content {max-height: 200px;max-width: 100%;overflow: auto;}#sk-container-id-2 input.sk-toggleable__control:checked~label.sk-toggleable__label-arrow:before {content: \"▾\";}#sk-container-id-2 div.sk-estimator input.sk-toggleable__control:checked~label.sk-toggleable__label {background-color: #d4ebff;}#sk-container-id-2 div.sk-label input.sk-toggleable__control:checked~label.sk-toggleable__label {background-color: #d4ebff;}#sk-container-id-2 input.sk-hidden--visually {border: 0;clip: rect(1px 1px 1px 1px);clip: rect(1px, 1px, 1px, 1px);height: 1px;margin: -1px;overflow: hidden;padding: 0;position: absolute;width: 1px;}#sk-container-id-2 div.sk-estimator {font-family: monospace;background-color: #f0f8ff;border: 1px dotted black;border-radius: 0.25em;box-sizing: border-box;margin-bottom: 0.5em;}#sk-container-id-2 div.sk-estimator:hover {background-color: #d4ebff;}#sk-container-id-2 div.sk-parallel-item::after {content: \"\";width: 100%;border-bottom: 1px solid gray;flex-grow: 1;}#sk-container-id-2 div.sk-label:hover label.sk-toggleable__label {background-color: #d4ebff;}#sk-container-id-2 div.sk-serial::before {content: \"\";position: absolute;border-left: 1px solid gray;box-sizing: border-box;top: 0;bottom: 0;left: 50%;z-index: 0;}#sk-container-id-2 div.sk-serial {display: flex;flex-direction: column;align-items: center;background-color: white;padding-right: 0.2em;padding-left: 0.2em;position: relative;}#sk-container-id-2 div.sk-item {position: relative;z-index: 1;}#sk-container-id-2 div.sk-parallel {display: flex;align-items: stretch;justify-content: center;background-color: white;position: relative;}#sk-container-id-2 div.sk-item::before, #sk-container-id-2 div.sk-parallel-item::before {content: \"\";position: absolute;border-left: 1px solid gray;box-sizing: border-box;top: 0;bottom: 0;left: 50%;z-index: -1;}#sk-container-id-2 div.sk-parallel-item {display: flex;flex-direction: column;z-index: 1;position: relative;background-color: white;}#sk-container-id-2 div.sk-parallel-item:first-child::after {align-self: flex-end;width: 50%;}#sk-container-id-2 div.sk-parallel-item:last-child::after {align-self: flex-start;width: 50%;}#sk-container-id-2 div.sk-parallel-item:only-child::after {width: 0;}#sk-container-id-2 div.sk-dashed-wrapped {border: 1px dashed gray;margin: 0 0.4em 0.5em 0.4em;box-sizing: border-box;padding-bottom: 0.4em;background-color: white;}#sk-container-id-2 div.sk-label label {font-family: monospace;font-weight: bold;display: inline-block;line-height: 1.2em;}#sk-container-id-2 div.sk-label-container {text-align: center;}#sk-container-id-2 div.sk-container {/* jupyter's `normalize.less` sets `[hidden] { display: none; }` but bootstrap.min.css set `[hidden] { display: none !important; }` so we also need the `!important` here to be able to override the default hidden behavior on the sphinx rendered scikit-learn.org. See: https://github.com/scikit-learn/scikit-learn/issues/21755 */display: inline-block !important;position: relative;}#sk-container-id-2 div.sk-text-repr-fallback {display: none;}</style><div id=\"sk-container-id-2\" class=\"sk-top-container\"><div class=\"sk-text-repr-fallback\"><pre>RandomForestClassifier(criterion=&#x27;entropy&#x27;, max_depth=25, max_features=None,\n",
       "                       min_samples_leaf=3, n_estimators=560, n_jobs=-1,\n",
       "                       random_state=42)</pre><b>In a Jupyter environment, please rerun this cell to show the HTML representation or trust the notebook. <br />On GitHub, the HTML representation is unable to render, please try loading this page with nbviewer.org.</b></div><div class=\"sk-container\" hidden><div class=\"sk-item\"><div class=\"sk-estimator sk-toggleable\"><input class=\"sk-toggleable__control sk-hidden--visually\" id=\"sk-estimator-id-2\" type=\"checkbox\" checked><label for=\"sk-estimator-id-2\" class=\"sk-toggleable__label sk-toggleable__label-arrow\">RandomForestClassifier</label><div class=\"sk-toggleable__content\"><pre>RandomForestClassifier(criterion=&#x27;entropy&#x27;, max_depth=25, max_features=None,\n",
       "                       min_samples_leaf=3, n_estimators=560, n_jobs=-1,\n",
       "                       random_state=42)</pre></div></div></div></div></div>"
      ],
      "text/plain": [
       "RandomForestClassifier(criterion='entropy', max_depth=25, max_features=None,\n",
       "                       min_samples_leaf=3, n_estimators=560, n_jobs=-1,\n",
       "                       random_state=42)"
      ]
     },
     "execution_count": 22,
     "metadata": {},
     "output_type": "execute_result"
    }
   ],
   "source": [
    "# create RandomForest model using the best params\n",
    "model = ensemble.RandomForestClassifier(\n",
    "        n_estimators=560, \n",
    "        max_depth=25, \n",
    "        min_samples_leaf=3, \n",
    "        criterion='entropy', \n",
    "        max_features=None, \n",
    "        random_state=random_state, \n",
    "        n_jobs=-1\n",
    "    )\n",
    "\n",
    "# fit the model\n",
    "model.fit(X_train, y_train)"
   ]
  },
  {
   "cell_type": "code",
   "execution_count": 23,
   "metadata": {},
   "outputs": [
    {
     "name": "stdout",
     "output_type": "stream",
     "text": [
      "The F1 score for Train data set:  0.9978145488604434\n",
      "The F1 score for Test data set:  0.8164196123147092\n"
     ]
    }
   ],
   "source": [
    "# make predictions\n",
    "y_train_predict = model.predict(X_train)\n",
    "y_test_predict = model.predict(X_test)\n",
    "\n",
    "# print F1 score for Train and Test\n",
    "print('The F1 score for Train data set: ', metrics.f1_score(y_train, y_train_predict))\n",
    "print('The F1 score for Test data set: ', metrics.f1_score(y_test, y_test_predict))"
   ]
  },
  {
   "cell_type": "code",
   "execution_count": null,
   "metadata": {},
   "outputs": [],
   "source": []
  }
 ],
 "metadata": {
  "accelerator": "GPU",
  "colab": {
   "gpuType": "V100",
   "machine_shape": "hm",
   "provenance": [],
   "toc_visible": true
  },
  "kernelspec": {
   "display_name": "Python 3 (ipykernel)",
   "language": "python",
   "name": "python3"
  },
  "language_info": {
   "codemirror_mode": {
    "name": "ipython",
    "version": 3
   },
   "file_extension": ".py",
   "mimetype": "text/x-python",
   "name": "python",
   "nbconvert_exporter": "python",
   "pygments_lexer": "ipython3",
   "version": "3.8.6"
  }
 },
 "nbformat": 4,
 "nbformat_minor": 4
}
